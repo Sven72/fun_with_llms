{
  "nbformat": 4,
  "nbformat_minor": 0,
  "metadata": {
    "colab": {
      "provenance": [],
      "toc_visible": true,
      "authorship_tag": "ABX9TyMDIKED8/qPEJ39wGsKW2Sy",
      "include_colab_link": true
    },
    "kernelspec": {
      "name": "python3",
      "display_name": "Python 3"
    },
    "language_info": {
      "name": "python"
    }
  },
  "cells": [
    {
      "cell_type": "markdown",
      "metadata": {
        "id": "view-in-github",
        "colab_type": "text"
      },
      "source": [
        "<a href=\"https://colab.research.google.com/github/Sven72/fun_with_llms/blob/main/emo_invent.ipynb\" target=\"_parent\"><img src=\"https://colab.research.google.com/assets/colab-badge.svg\" alt=\"Open In Colab\"/></a>"
      ]
    },
    {
      "cell_type": "code",
      "source": [
        "!pip install openai"
      ],
      "metadata": {
        "colab": {
          "base_uri": "https://localhost:8080/"
        },
        "id": "Ew3Hw50TQdHe",
        "outputId": "92c944ea-26ac-4bf6-b4fc-8ac95b76c5e5"
      },
      "execution_count": 1,
      "outputs": [
        {
          "output_type": "stream",
          "name": "stdout",
          "text": [
            "Looking in indexes: https://pypi.org/simple, https://us-python.pkg.dev/colab-wheels/public/simple/\n",
            "Collecting openai\n",
            "  Downloading openai-0.27.6-py3-none-any.whl (71 kB)\n",
            "\u001b[2K     \u001b[90m━━━━━━━━━━━━━━━━━━━━━━━━━━━━━━━━━━━━━━━━\u001b[0m \u001b[32m71.9/71.9 kB\u001b[0m \u001b[31m1.5 MB/s\u001b[0m eta \u001b[36m0:00:00\u001b[0m\n",
            "\u001b[?25hRequirement already satisfied: requests>=2.20 in /usr/local/lib/python3.10/dist-packages (from openai) (2.27.1)\n",
            "Requirement already satisfied: tqdm in /usr/local/lib/python3.10/dist-packages (from openai) (4.65.0)\n",
            "Collecting aiohttp (from openai)\n",
            "  Downloading aiohttp-3.8.4-cp310-cp310-manylinux_2_17_x86_64.manylinux2014_x86_64.whl (1.0 MB)\n",
            "\u001b[2K     \u001b[90m━━━━━━━━━━━━━━━━━━━━━━━━━━━━━━━━━━━━━━━━\u001b[0m \u001b[32m1.0/1.0 MB\u001b[0m \u001b[31m31.1 MB/s\u001b[0m eta \u001b[36m0:00:00\u001b[0m\n",
            "\u001b[?25hRequirement already satisfied: urllib3<1.27,>=1.21.1 in /usr/local/lib/python3.10/dist-packages (from requests>=2.20->openai) (1.26.15)\n",
            "Requirement already satisfied: certifi>=2017.4.17 in /usr/local/lib/python3.10/dist-packages (from requests>=2.20->openai) (2022.12.7)\n",
            "Requirement already satisfied: charset-normalizer~=2.0.0 in /usr/local/lib/python3.10/dist-packages (from requests>=2.20->openai) (2.0.12)\n",
            "Requirement already satisfied: idna<4,>=2.5 in /usr/local/lib/python3.10/dist-packages (from requests>=2.20->openai) (3.4)\n",
            "Requirement already satisfied: attrs>=17.3.0 in /usr/local/lib/python3.10/dist-packages (from aiohttp->openai) (23.1.0)\n",
            "Collecting multidict<7.0,>=4.5 (from aiohttp->openai)\n",
            "  Downloading multidict-6.0.4-cp310-cp310-manylinux_2_17_x86_64.manylinux2014_x86_64.whl (114 kB)\n",
            "\u001b[2K     \u001b[90m━━━━━━━━━━━━━━━━━━━━━━━━━━━━━━━━━━━━━━━\u001b[0m \u001b[32m114.5/114.5 kB\u001b[0m \u001b[31m3.8 MB/s\u001b[0m eta \u001b[36m0:00:00\u001b[0m\n",
            "\u001b[?25hCollecting async-timeout<5.0,>=4.0.0a3 (from aiohttp->openai)\n",
            "  Downloading async_timeout-4.0.2-py3-none-any.whl (5.8 kB)\n",
            "Collecting yarl<2.0,>=1.0 (from aiohttp->openai)\n",
            "  Downloading yarl-1.9.2-cp310-cp310-manylinux_2_17_x86_64.manylinux2014_x86_64.whl (268 kB)\n",
            "\u001b[2K     \u001b[90m━━━━━━━━━━━━━━━━━━━━━━━━━━━━━━━━━━━━━━━\u001b[0m \u001b[32m268.8/268.8 kB\u001b[0m \u001b[31m4.8 MB/s\u001b[0m eta \u001b[36m0:00:00\u001b[0m\n",
            "\u001b[?25hCollecting frozenlist>=1.1.1 (from aiohttp->openai)\n",
            "  Downloading frozenlist-1.3.3-cp310-cp310-manylinux_2_5_x86_64.manylinux1_x86_64.manylinux_2_17_x86_64.manylinux2014_x86_64.whl (149 kB)\n",
            "\u001b[2K     \u001b[90m━━━━━━━━━━━━━━━━━━━━━━━━━━━━━━━━━━━━━━━\u001b[0m \u001b[32m149.6/149.6 kB\u001b[0m \u001b[31m5.0 MB/s\u001b[0m eta \u001b[36m0:00:00\u001b[0m\n",
            "\u001b[?25hCollecting aiosignal>=1.1.2 (from aiohttp->openai)\n",
            "  Downloading aiosignal-1.3.1-py3-none-any.whl (7.6 kB)\n",
            "Installing collected packages: multidict, frozenlist, async-timeout, yarl, aiosignal, aiohttp, openai\n",
            "Successfully installed aiohttp-3.8.4 aiosignal-1.3.1 async-timeout-4.0.2 frozenlist-1.3.3 multidict-6.0.4 openai-0.27.6 yarl-1.9.2\n"
          ]
        }
      ]
    },
    {
      "cell_type": "code",
      "source": [
        "import os\n",
        "os.environ['OPENAI_API_KEY'] = '<Your OPEN AI API KEY HERE>'"
      ],
      "metadata": {
        "id": "NwDNh7bavvf3"
      },
      "execution_count": 2,
      "outputs": []
    },
    {
      "cell_type": "code",
      "source": [
        "import openai\n",
        "from IPython.display import display, Markdown\n"
      ],
      "metadata": {
        "id": "fm1FNHucv66M"
      },
      "execution_count": 3,
      "outputs": []
    },
    {
      "cell_type": "code",
      "source": [
        "class Prompter:\n",
        "    def __init__(self, gpt_model, temper):\n",
        "        if not os.environ.get(\"OPENAI_API_KEY\"):\n",
        "            raise Exception(\"Please set the OPENAI_API_KEY environment variable\")\n",
        "\n",
        "        openai.api_key = os.environ.get(\"OPENAI_API_KEY\")\n",
        "\n",
        "        self.gpt_model = gpt_model\n",
        "        self.temper = temper\n",
        "\n",
        "    def prompt_model_print(self, messages: list):\n",
        "        response = openai.ChatCompletion.create(model=self.gpt_model, messages=messages)\n",
        "        display(Markdown(response[\"choices\"][0][\"message\"][\"content\"]))\n",
        "        #print(display(Markdown(response[\"choices\"][0][\"message\"][\"content\"])))\n",
        "    \n",
        "    def prompt_model_return(self, messages: list, temper):\n",
        "        response = openai.ChatCompletion.create(model=self.gpt_model, messages=messages)\n",
        "        return response[\"choices\"][0][\"message\"][\"content\"]"
      ],
      "metadata": {
        "id": "WHBFS2uIQzbG"
      },
      "execution_count": 10,
      "outputs": []
    },
    {
      "cell_type": "code",
      "source": [
        "prompter = Prompter(\"gpt-3.5-turbo\", 0.2)\n"
      ],
      "metadata": {
        "id": "BF9vOBOqzPnP"
      },
      "execution_count": 11,
      "outputs": []
    },
    {
      "cell_type": "code",
      "source": [
        "new_emotions_prompts = [\n",
        "    {\"role\" : \"system\", \"content\" : \"Act as an inventor of new emotions. Consider the following: Mankind as a whole experiences many\"  \n",
        "     \"emotions like happiness, sadness, hate, love, and much more. Cultures in particular experience emotions or label emotions other\"  \n",
        "     \"cultures don't have words for. So for example in Korea exists an emotion labeled as 'Aegyo' which describes a special kind of behavior\"  \n",
        "     \"to make people love you. Or 'German Angst' even attributes a certain facet of anxiety to a nationality. Search for feelings that are part\"  \n",
        "     \"of human existence. But these feelings should not have been labeled yet. They exist, but they don't have a label.\"  \n",
        "     \"Define these feelings and invent a label for each of these feeling. Also provide me with an example sentence someone could say and\"  \n",
        "     \"explain your reasoning for the word (label) you invented and why you think that this could be a human emotion.\"\n",
        "     \"when experiences these feelings. Also provide an anonym. Focus only on the English Language\"},\n",
        "    {\"role\" : \"user\", \"content\" : \"Please generate a Python list of 2 new feelings, their antonyms, their descriptions, example sentence, explanation for the name, explanation of why do you\"  \n",
        "     \"think this is a relevant human emotion, and the language model you.\"},\n",
        "]\n",
        "\n"
      ],
      "metadata": {
        "id": "Xzo0bxhkw5CH"
      },
      "execution_count": 12,
      "outputs": []
    },
    {
      "cell_type": "code",
      "source": [
        "prompter.prompt_model_print(new_emotions_prompts)"
      ],
      "metadata": {
        "colab": {
          "base_uri": "https://localhost:8080/",
          "height": 414
        },
        "id": "SrpK2K4WQVkj",
        "outputId": "566349bf-3a39-41c2-d43c-b3943c685dbd"
      },
      "execution_count": 13,
      "outputs": [
        {
          "output_type": "display_data",
          "data": {
            "text/plain": [
              "<IPython.core.display.Markdown object>"
            ],
            "text/markdown": "Sure, here's a Python list of 2 new feelings:\n\n```python\n[\n    {\n        \"feeling\": \"Blisslight\",\n        \"antonym\": \"Desolanox\",\n        \"description\": \"The feeling of pure joy and peace that arises when you experience a moment of clarity and insight.\",\n        \"example_sentence\": \"After months of struggling with writer's block, she felt a sudden rush of blisslight when the right words finally came to her.\",\n        \"explanation_for_name\": \"The term 'bliss' refers to a state of pure happiness, while 'light' suggests illumination and clarity.\",\n        \"explanation_for_relevance\": \"Blisslight captures the specific sensation of experiencing an 'aha' moment or breakthrough, which is something that many people have experienced and can relate to, particularly in creative or intellectual pursuits.\",\n        \"language_model_used\": \"GPT-3\"\n    },\n    {\n        \"feeling\": \"Multisonic\",\n        \"antonym\": \"Monotonal\",\n        \"description\": \"The sensation of being simultaneously struck by multiple diverse emotions or sensations at once.\",\n        \"example_sentence\": \"As she looked out over the vast mountains, she was overcome by a multisonic mix of awe, gratitude, and melancholy.\",\n        \"explanation_for_name\": \"The term 'multi' refers to multiple or diverse elements, while 'sonic' suggests a sensory or emotional experience.\",\n        \"explanation_for_relevance\": \"Multisonic captures the complex, dizzying feeling of being pulled in different emotional directions all at once, which is something that many people experience in various situations, from watching a beautiful sunset to processing a difficult personal event.\",\n        \"language_model_used\": \"GPT-3\"\n    }\n]\n```"
          },
          "metadata": {}
        }
      ]
    }
  ]
}