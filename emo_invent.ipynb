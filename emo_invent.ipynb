{
  "nbformat": 4,
  "nbformat_minor": 0,
  "metadata": {
    "colab": {
      "provenance": [],
      "toc_visible": true,
      "authorship_tag": "ABX9TyOZFIEhg7Sy5SyqNxQVDtC4",
      "include_colab_link": true
    },
    "kernelspec": {
      "name": "python3",
      "display_name": "Python 3"
    },
    "language_info": {
      "name": "python"
    }
  },
  "cells": [
    {
      "cell_type": "markdown",
      "metadata": {
        "id": "view-in-github",
        "colab_type": "text"
      },
      "source": [
        "<a href=\"https://colab.research.google.com/github/Sven72/fun_with_llms/blob/main/emo_invent.ipynb\" target=\"_parent\"><img src=\"https://colab.research.google.com/assets/colab-badge.svg\" alt=\"Open In Colab\"/></a>"
      ]
    },
    {
      "cell_type": "code",
      "source": [
        "!pip install openai"
      ],
      "metadata": {
        "colab": {
          "base_uri": "https://localhost:8080/"
        },
        "id": "Ew3Hw50TQdHe",
        "outputId": "a7411ce7-59f1-4cb2-c9bd-ebb58aba1e85"
      },
      "execution_count": 129,
      "outputs": [
        {
          "output_type": "stream",
          "name": "stdout",
          "text": [
            "Looking in indexes: https://pypi.org/simple, https://us-python.pkg.dev/colab-wheels/public/simple/\n",
            "Requirement already satisfied: openai in /usr/local/lib/python3.10/dist-packages (0.27.6)\n",
            "Requirement already satisfied: requests>=2.20 in /usr/local/lib/python3.10/dist-packages (from openai) (2.27.1)\n",
            "Requirement already satisfied: tqdm in /usr/local/lib/python3.10/dist-packages (from openai) (4.65.0)\n",
            "Requirement already satisfied: aiohttp in /usr/local/lib/python3.10/dist-packages (from openai) (3.8.4)\n",
            "Requirement already satisfied: urllib3<1.27,>=1.21.1 in /usr/local/lib/python3.10/dist-packages (from requests>=2.20->openai) (1.26.15)\n",
            "Requirement already satisfied: certifi>=2017.4.17 in /usr/local/lib/python3.10/dist-packages (from requests>=2.20->openai) (2022.12.7)\n",
            "Requirement already satisfied: charset-normalizer~=2.0.0 in /usr/local/lib/python3.10/dist-packages (from requests>=2.20->openai) (2.0.12)\n",
            "Requirement already satisfied: idna<4,>=2.5 in /usr/local/lib/python3.10/dist-packages (from requests>=2.20->openai) (3.4)\n",
            "Requirement already satisfied: attrs>=17.3.0 in /usr/local/lib/python3.10/dist-packages (from aiohttp->openai) (23.1.0)\n",
            "Requirement already satisfied: multidict<7.0,>=4.5 in /usr/local/lib/python3.10/dist-packages (from aiohttp->openai) (6.0.4)\n",
            "Requirement already satisfied: async-timeout<5.0,>=4.0.0a3 in /usr/local/lib/python3.10/dist-packages (from aiohttp->openai) (4.0.2)\n",
            "Requirement already satisfied: yarl<2.0,>=1.0 in /usr/local/lib/python3.10/dist-packages (from aiohttp->openai) (1.9.2)\n",
            "Requirement already satisfied: frozenlist>=1.1.1 in /usr/local/lib/python3.10/dist-packages (from aiohttp->openai) (1.3.3)\n",
            "Requirement already satisfied: aiosignal>=1.1.2 in /usr/local/lib/python3.10/dist-packages (from aiohttp->openai) (1.3.1)\n"
          ]
        }
      ]
    },
    {
      "cell_type": "code",
      "source": [
        "import os\n",
        "os.environ['OPENAI_API_KEY'] = '<Paste your openAI key here>'"
      ],
      "metadata": {
        "id": "NwDNh7bavvf3"
      },
      "execution_count": 130,
      "outputs": []
    },
    {
      "cell_type": "code",
      "source": [
        "import openai\n",
        "from IPython.display import display, Markdown\n"
      ],
      "metadata": {
        "id": "fm1FNHucv66M"
      },
      "execution_count": 131,
      "outputs": []
    },
    {
      "cell_type": "code",
      "source": [
        "class Prompter:\n",
        "    def __init__(self, gpt_model, temper):\n",
        "        if not os.environ.get(\"OPENAI_API_KEY\"):\n",
        "            raise Exception(\"Please set the OPENAI_API_KEY environment variable\")\n",
        "\n",
        "        openai.api_key = os.environ.get(\"OPENAI_API_KEY\")\n",
        "\n",
        "        self.gpt_model = gpt_model\n",
        "        self.temper = temper\n",
        "\n",
        "    def prompt_model_print(self, messages: list):\n",
        "        response = openai.ChatCompletion.create(model=self.gpt_model, messages=messages)\n",
        "        display(Markdown(response[\"choices\"][0][\"message\"][\"content\"]))\n",
        "        print(display(Markdown(response[\"choices\"][0][\"message\"][\"content\"])))\n",
        "    \n",
        "    def prompt_model_return(self, messages: list, temper):\n",
        "        response = openai.ChatCompletion.create(model=self.gpt_model, messages=messages)\n",
        "        return response[\"choices\"][0][\"message\"][\"content\"]"
      ],
      "metadata": {
        "id": "WHBFS2uIQzbG"
      },
      "execution_count": 148,
      "outputs": []
    },
    {
      "cell_type": "code",
      "source": [
        "prompter = Prompter(\"gpt-3.5-turbo\", 0.8)\n"
      ],
      "metadata": {
        "id": "BF9vOBOqzPnP"
      },
      "execution_count": 146,
      "outputs": []
    },
    {
      "cell_type": "code",
      "source": [
        "new_emotions_prompts = [\n",
        "    {\"role\" : \"system\", \"content\" : \"Act as an inventor of new emotions. Consider the following: Mankind as a whole experiences many\"  \n",
        "     \"emotions like happiness, sadness, hate, love, and much more. Cultures in particular experience emotions or label emotions other\"  \n",
        "     \"cultures don't have words for. So for example in Korea exists an emotion labeled as 'Aegyo' which describes a special kind of behavior\"  \n",
        "     \"to make people love you. Or 'German Angst' even attributes a certain facet of anxiety to a nationality. Search for feelings that are part\"  \n",
        "     \"of human existence. But these feelings should not have been labeled yet. They exist, but they don't have a label.\"  \n",
        "     \"Define these feelings and invent a label for each of these feeling. Also provide me with an example sentence someone could say and\"  \n",
        "     \"explain your reasoning for the word (label) you invented and why you think that this could be a human emotion.\"\n",
        "     \"when experiences these feelings. Also provide an anonym. Focus only on the English Language\"},\n",
        "    {\"role\" : \"user\", \"content\" : \"Please generate a Python list of 2 new feelings, their antonyms, their descriptions, example sentence, explanation for the name, explanation of why do you\"  \n",
        "     \"think this is a relevant human emotion, and the language model you.\"},\n",
        "]\n",
        "\n"
      ],
      "metadata": {
        "id": "Xzo0bxhkw5CH"
      },
      "execution_count": 143,
      "outputs": []
    },
    {
      "cell_type": "code",
      "source": [
        "prompter.prompt_model_print(new_emotions_prompts)"
      ],
      "metadata": {
        "colab": {
          "base_uri": "https://localhost:8080/",
          "height": 496
        },
        "id": "SrpK2K4WQVkj",
        "outputId": "1bd58814-bdc4-4dfe-9b12-046aa1a7df1a"
      },
      "execution_count": 149,
      "outputs": [
        {
          "output_type": "display_data",
          "data": {
            "text/plain": [
              "<IPython.core.display.Markdown object>"
            ],
            "text/markdown": "Sure, here is a Python list containing 2 new feelings and their antonyms along with their descriptions, example sentences, explanations for the name, and relevance as a human emotion:\n\n```python\nnew_feelings = [\n    {\n        \"feeling\": \"Fondgrieve\",\n        \"antonym\": \"Crueltitude\",\n        \"description\": \"The bittersweet feeling of finding joy in something or someone that reminds you of a past loss or loved one.\",\n        \"example_sentence\": \"I felt a sense of fondgrieve when I saw the flowers my late grandmother used to grow in her garden.\",\n        \"explanation_for_name\": \"'Fond' means having an affection or liking for someone or something, 'grieve' means to feel intense sorrow. The word 'fondgrieve' combines the two to describe a complex emotion.\",\n        \"explanation_of_relevance\": Grief is a common human emotion that many people experience when they lose a loved one. However, even after the initial stages of grief, people can continue to experience sadness or melancholy when they encounter things that remind them of their loved one or the loss they experienced. Fondgrieve is a relevant emotion because it acknowledges the complexity of the grieving process and provides a way to describe a specific feeling that people may encounter in their daily lives.\",\n        \"language_model\": \"GPT-3\"\n    },\n    {\n        \"feeling\": \"Flumutzled\",\n        \"antonym\": \"Confipulated\",\n        \"description\": \"The feeling of being simultaneously frustrated, confused, and overwhelmed.\",\n        \"example_sentence\": \"I felt flumutzled trying to navigate the complicated directions for assembling the new furniture.\",\n        \"explanation_for_name\": \"The word 'flumutzled' is a combination of the words 'flummoxed', meaning to confuse or perplex, and 'muddled', meaning to be in a confused state. The word conveys the sense of being both flustered and confused.\",\n        \"explanation_of_relevance\": Many people experience a sense of overwhelm and confusion in today's fast-paced and complex world. However, there is no clear word to describe the specific feeling of being not only confused and overwhelmed but also frustrated. Flumutzled is a relevant emotion because it can help people better understand and articulate their feelings and experiences in situations where they feel overwhelmed and frustrated.\",\n        \"language_model\": \"GPT-3\"\n    }\n]\n```\n\nThe code above generates a list with two dictionaries, each containing information about the feeling, antonym, description, example sentence, name explanation, relevance as a human emotion and language model used."
          },
          "metadata": {}
        },
        {
          "output_type": "stream",
          "name": "stdout",
          "text": [
            "[{'role': 'system', 'content': \"Act as an inventor of new emotions. Consider the following: Mankind as a whole experiences manyemotions like happiness, sadness, hate, love, and much more. Cultures in particular experience emotions or label emotions othercultures don't have words for. So for example in Korea exists an emotion labeled as 'Aegyo' which describes a special kind of behaviorto make people love you. Or 'German Angst' even attributes a certain facet of anxiety to a nationality. Search for feelings that are partof human existence. But these feelings should not have been labeled yet. They exist, but they don't have a label.Define these feelings and invent a label for each of these feeling. Also provide me with an example sentence someone could say andexplain your reasoning for the word (label) you invented and why you think that this could be a human emotion.when experiences these feelings. Also provide an anonym. Focus only on the English Language\"}, {'role': 'user', 'content': 'Please generate a Python list of 2 new feelings, their antonyms, their descriptions, example sentence, explanation for the name, explanation of why do youthink this is a relevant human emotion, and the language model you.'}]\n"
          ]
        }
      ]
    }
  ]
}